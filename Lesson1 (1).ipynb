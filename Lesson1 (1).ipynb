{
 "cells": [
  {
   "cell_type": "markdown",
   "id": "c695e610-5169-463b-a275-18a0accf3500",
   "metadata": {},
   "source": [
    "### Первая программа"
   ]
  },
  {
   "cell_type": "code",
   "execution_count": 3,
   "id": "a07d15df-975c-4e21-9d10-6114dc0c2c1a",
   "metadata": {},
   "outputs": [
    {
     "name": "stdout",
     "output_type": "stream",
     "text": [
      "Hello world!\n"
     ]
    }
   ],
   "source": [
    "print(\"Hello world!\")\n"
   ]
  },
  {
   "cell_type": "markdown",
   "id": "3b5f8e7b-f59e-4ceb-aed4-9dfd3b5877d6",
   "metadata": {},
   "source": [
    "### Задание 1"
   ]
  },
  {
   "cell_type": "code",
   "execution_count": 52,
   "id": "3fc5b8b7-0126-453b-81f0-75627cd3715d",
   "metadata": {},
   "outputs": [
    {
     "name": "stdin",
     "output_type": "stream",
     "text": [
      "Введите ваше имя:  Ирина\n",
      "Введите ваш возраст:  39\n",
      "Введите ваш любимый цвет:  зеленый\n"
     ]
    },
    {
     "name": "stdout",
     "output_type": "stream",
     "text": [
      "Меня зовут Ирина, мне 39 лет и я люблю зеленый цвет.\n"
     ]
    }
   ],
   "source": [
    "name = input(\"Введите ваше имя: \")\n",
    "age = input(\"Введите ваш возраст: \")\n",
    "color = input(\"Введите ваш любимый цвет: \")\n",
    "message = f\"Меня зовут {name}, мне {age} лет и я люблю {color} цвет.\"\n",
    "print(message)\n"
   ]
  },
  {
   "cell_type": "markdown",
   "id": "2c8f7310-3a87-4d51-9f1f-265fda1247c0",
   "metadata": {},
   "source": [
    "### Задание 2"
   ]
  },
  {
   "cell_type": "markdown",
   "id": "a69616a3-e041-418b-91ad-8b35b2a86c63",
   "metadata": {},
   "source": [
    "Последовательность Фибоначчи от 1 до n-го числа."
   ]
  },
  {
   "cell_type": "code",
   "execution_count": 73,
   "id": "163ed0fe-24b9-410d-8bf4-af496268827d",
   "metadata": {},
   "outputs": [
    {
     "name": "stdin",
     "output_type": "stream",
     "text": [
      "Введите количество чисел в последовательности:  7\n"
     ]
    },
    {
     "name": "stdout",
     "output_type": "stream",
     "text": [
      "1\n",
      "1\n",
      "2\n",
      "3\n",
      "5\n",
      "8\n",
      "13\n"
     ]
    }
   ],
   "source": [
    "n = int(input(\"Введите количество чисел в последовательности: \"))\n",
    "a, b = 1, 1\n",
    "if n <= 0:\n",
    "    print(\"Последовательность не задана\")\n",
    "else:\n",
    "    for i in range(n):\n",
    "        print(a)\n",
    "        a, b = b, a + b\n"
   ]
  },
  {
   "cell_type": "markdown",
   "id": "d465c146-c1f8-488c-b4c6-45869194cb33",
   "metadata": {},
   "source": [
    "### Задание 3"
   ]
  },
  {
   "cell_type": "markdown",
   "id": "3e0c8140-18e9-4385-bf54-c7adf9ac6111",
   "metadata": {},
   "source": [
    "Бесконечный калькулятор"
   ]
  },
  {
   "cell_type": "code",
   "execution_count": 72,
   "id": "bc36a41c-a9b9-4019-aa98-dcb6735cee99",
   "metadata": {},
   "outputs": [
    {
     "name": "stdin",
     "output_type": "stream",
     "text": [
      "Введите действие, которое необходимо выполнить (+, -, *, /):  +\n",
      "Введите через пробел два числа, сумму которых нужно найти:  5 8\n"
     ]
    },
    {
     "name": "stdout",
     "output_type": "stream",
     "text": [
      "Результат: 13.0\n"
     ]
    },
    {
     "name": "stdin",
     "output_type": "stream",
     "text": [
      "Введите действие, которое необходимо выполнить (+, -, *, /):  g\n"
     ]
    },
    {
     "name": "stdout",
     "output_type": "stream",
     "text": [
      "Горшочек, не вари!\n"
     ]
    }
   ],
   "source": [
    "while True:\n",
    "    operation = input(\"Введите действие, которое необходимо выполнить (+, -, *, /): \")\n",
    "    if operation == \"+\":\n",
    "        a, b = input(\"Введите через пробел два числа, сумму которых нужно найти: \").split(\" \")\n",
    "        a, b = float(a), float(b)\n",
    "        print(f\"Результат: {a + b}\")\n",
    "    elif operation == \"-\":\n",
    "        a, b = input(\"Введите через пробел два числа, разность которых нужно найти: \").split(\" \")\n",
    "        a, b = float(a), float(b)\n",
    "        print(f\"Результат: {a - b}\")\n",
    "    elif operation == \"*\":\n",
    "        a, b = input(\"Введите через пробел два числа, произведение которых нужно найти: \").split(\" \")\n",
    "        a, b = float(a), float(b)\n",
    "        print(f\"Результат: {a * b}\")\n",
    "    elif operation == \"/\":\n",
    "        a, b = input(\"Введите через пробел два числа, частное которых нужно найти: \").split(\" \")\n",
    "        a, b = float(a), float(b)\n",
    "        print(f\"Результат: {a / b}\")\n",
    "    else:\n",
    "        print(\"Горшочек, не вари!\")\n",
    "        break\n",
    "        "
   ]
  },
  {
   "cell_type": "markdown",
   "id": "9b5d1423-eaed-418b-989a-c2a937d6fa2e",
   "metadata": {},
   "source": [
    "Можно добавить произвольное количество чисел вместо двух, но не в этот раз.)"
   ]
  },
  {
   "cell_type": "markdown",
   "id": "8308a065-1482-4e13-a807-716616cefcc9",
   "metadata": {},
   "source": [
    "### Задание 4"
   ]
  },
  {
   "cell_type": "markdown",
   "id": "1501c4fd-ca81-4263-b8b1-c825c81e6578",
   "metadata": {},
   "source": [
    "Преобразование температуры из Цельсиев в Фаренгейты и обратно."
   ]
  },
  {
   "cell_type": "code",
   "execution_count": 90,
   "id": "a5f4e28a-b964-46f7-880c-2c1384404862",
   "metadata": {},
   "outputs": [
    {
     "name": "stdin",
     "output_type": "stream",
     "text": [
      "Выберите температурную шкалу (F или C):  F\n",
      "Введите температуру по шкале Фаренгейта:  451\n"
     ]
    },
    {
     "name": "stdout",
     "output_type": "stream",
     "text": [
      "Температура по шкале Цельсия: 232.77777777777777\n"
     ]
    }
   ],
   "source": [
    "scale = input(\"Выберите температурную шкалу (F или C): \")\n",
    "if scale == \"F\":\n",
    "    F = float(input(\"Введите температуру по шкале Фаренгейта: \"))\n",
    "    C = (F - 32)*5/9\n",
    "    print(f\"Температура по шкале Цельсия: {C}\")\n",
    "else:\n",
    "    C = float(input(\"Введите температуру по шкале Цельсия: \"))\n",
    "    F = C*9/5 + 32\n",
    "    print(f\"Температура по шкале Фаренгейта: {F}\")\n",
    "    "
   ]
  }
 ],
 "metadata": {
  "kernelspec": {
   "display_name": "Python 3 (ipykernel)",
   "language": "python",
   "name": "python3"
  },
  "language_info": {
   "codemirror_mode": {
    "name": "ipython",
    "version": 3
   },
   "file_extension": ".py",
   "mimetype": "text/x-python",
   "name": "python",
   "nbconvert_exporter": "python",
   "pygments_lexer": "ipython3",
   "version": "3.12.4"
  }
 },
 "nbformat": 4,
 "nbformat_minor": 5
}

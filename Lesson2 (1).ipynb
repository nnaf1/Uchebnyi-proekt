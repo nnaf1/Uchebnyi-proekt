{
 "cells": [
  {
   "cell_type": "markdown",
   "id": "293b3647-9e42-47fa-8ade-b507e8edd445",
   "metadata": {},
   "source": [
    "### Задание 1"
   ]
  },
  {
   "cell_type": "markdown",
   "id": "0113f0cb-f62d-4824-8a32-cf689dca31a7",
   "metadata": {},
   "source": [
    "Вывести четные числа в заданном диапазоне. Вношу b+1 чтобы диапазон включал оба крайних числа."
   ]
  },
  {
   "cell_type": "code",
   "execution_count": 21,
   "id": "51212d6e-bb38-45d0-a5b3-2c0076af3268",
   "metadata": {},
   "outputs": [
    {
     "name": "stdin",
     "output_type": "stream",
     "text": [
      "Введите первое и последнее числа диапазона через пробел:  5 20\n"
     ]
    },
    {
     "name": "stdout",
     "output_type": "stream",
     "text": [
      "6\n",
      "8\n",
      "10\n",
      "12\n",
      "14\n",
      "16\n",
      "18\n",
      "20\n"
     ]
    }
   ],
   "source": [
    "a, b = input(\"Введите первое и последнее числа диапазона через пробел: \").split(\" \")\n",
    "a, b = int(a), int(b)\n",
    "for number in range(a, b+1):\n",
    "    if number % 2 == 0:\n",
    "        print(number)\n"
   ]
  },
  {
   "cell_type": "markdown",
   "id": "31fe30e8-ba1b-4bf8-968a-9d43a6eaad27",
   "metadata": {},
   "source": [
    "### Задание 2"
   ]
  },
  {
   "cell_type": "markdown",
   "id": "92025eea-6944-4bed-b342-7eb6541821cc",
   "metadata": {},
   "source": [
    "Является ли введенная строка палиндромом."
   ]
  },
  {
   "cell_type": "code",
   "execution_count": 19,
   "id": "3a438288-106d-438f-9613-528f69dd2559",
   "metadata": {},
   "outputs": [
    {
     "name": "stdin",
     "output_type": "stream",
     "text": [
      "Введите строку:  На вас летел саван\n"
     ]
    },
    {
     "name": "stdout",
     "output_type": "stream",
     "text": [
      "наваслетелсаван\n",
      "наваслетелсаван\n",
      "Это палиндром!\n"
     ]
    }
   ],
   "source": [
    "palindrome = input(\"Введите строку: \")\n",
    "palindrome_lower = palindrome.lower()\n",
    "palindrome_replace = palindrome_lower.replace(\" \", \"\")\n",
    "print(palindrome_replace)\n",
    "palindrome_reverse = palindrome_replace[::-1]\n",
    "print(palindrome_reverse)\n",
    "if palindrome_replace == palindrome_reverse:\n",
    "    print(\"Это палиндром!\")\n",
    "else:\n",
    "    print(\"Это ерунда какая-то...\")"
   ]
  },
  {
   "cell_type": "markdown",
   "id": "d12c3fa2-03ae-416d-984a-fa3d28684885",
   "metadata": {},
   "source": [
    "Я помню, что в задании предлагается сравнивать посимвольно, но использовать срез быстрее..."
   ]
  },
  {
   "cell_type": "markdown",
   "id": "61e79b5b-0fef-42a6-a531-b5aa870a0289",
   "metadata": {},
   "source": [
    "### Задание 3"
   ]
  },
  {
   "cell_type": "markdown",
   "id": "4410a53c-88c4-4546-9641-536928d76dd6",
   "metadata": {},
   "source": [
    "Написать функцию, которая принимает на вход список \n",
    "чисел и возвращает их сумму, произведение и средне \r\n",
    "арифметическое."
   ]
  },
  {
   "cell_type": "code",
   "execution_count": 58,
   "id": "40cf40b4-7d47-4e78-8a8b-9ecd5fc63473",
   "metadata": {},
   "outputs": [],
   "source": [
    "import math\n",
    "def operations_with_numbers(list_of_num):\n",
    "    summ_of_num = sum(list_of_num)\n",
    "    product_of_num = math.prod(list_of_num)\n",
    "    mean_of_num = summ_of_num/len(list_of_num)\n",
    "    print(f\"Сумма всех чисел списка: {summ_of_num}, произведение всех чисел списка: {product_of_num}, среднее арифметическое: {mean_of_num}.\")\n"
   ]
  },
  {
   "cell_type": "code",
   "execution_count": 60,
   "id": "4634abec-c40e-4d72-96e1-b7a9842c8193",
   "metadata": {},
   "outputs": [
    {
     "name": "stdin",
     "output_type": "stream",
     "text": [
      "Введите произвольное количество чисел через пробел:  8 6 4\n"
     ]
    },
    {
     "name": "stdout",
     "output_type": "stream",
     "text": [
      "[8.0, 6.0, 4.0]\n",
      "Сумма всех чисел списка: 18.0, произведение всех чисел списка: 192.0, среднее арифметическое: 6.0.\n"
     ]
    }
   ],
   "source": [
    "x = input(\"Введите произвольное количество чисел через пробел: \").split(\" \")\n",
    "y = list(map(float, x))\n",
    "print(y)\n",
    "operations_with_numbers(y)"
   ]
  },
  {
   "cell_type": "markdown",
   "id": "0632e9ef-1f1e-4550-bd03-a4605c459e7d",
   "metadata": {},
   "source": [
    "### Задание 4"
   ]
  },
  {
   "cell_type": "markdown",
   "id": "072d16fd-6a61-4747-b22e-6cd409b74220",
   "metadata": {},
   "source": [
    "Создать функцию для нахождения НОД (наибольшего общего делителя) двух чисел с использованием алгоритма Евклида."
   ]
  },
  {
   "cell_type": "code",
   "execution_count": 26,
   "id": "eb54aafb-55bb-4289-a91d-ef985af22464",
   "metadata": {},
   "outputs": [],
   "source": [
    "def nod_num(a, b):\n",
    "    if a > b:\n",
    "        while a % b != 0:\n",
    "            a, b = b, a % b\n",
    "            print(f\"Наибольший общий делитель: {b}.\")\n",
    "    else:\n",
    "        while b % a != 0:\n",
    "            b, a = a, b % a\n",
    "            print(f\"Наибольший общий делитель: {a}.\")"
   ]
  },
  {
   "cell_type": "code",
   "execution_count": 27,
   "id": "b828dd08-2330-4ed1-abe0-eef9a6978911",
   "metadata": {},
   "outputs": [
    {
     "name": "stdin",
     "output_type": "stream",
     "text": [
      "Введите два числа через пробел:  49 21\n"
     ]
    },
    {
     "name": "stdout",
     "output_type": "stream",
     "text": [
      "Наибольший общий делитель: 7.0.\n",
      "None\n"
     ]
    }
   ],
   "source": [
    "x, y = input(\"Введите два числа через пробел: \").split(\" \")\n",
    "x, y = float(x), float(y)\n",
    "NOD = nod_num(x, y)\n",
    "print(NOD)"
   ]
  }
 ],
 "metadata": {
  "kernelspec": {
   "display_name": "Python 3 (ipykernel)",
   "language": "python",
   "name": "python3"
  },
  "language_info": {
   "codemirror_mode": {
    "name": "ipython",
    "version": 3
   },
   "file_extension": ".py",
   "mimetype": "text/x-python",
   "name": "python",
   "nbconvert_exporter": "python",
   "pygments_lexer": "ipython3",
   "version": "3.12.4"
  }
 },
 "nbformat": 4,
 "nbformat_minor": 5
}
